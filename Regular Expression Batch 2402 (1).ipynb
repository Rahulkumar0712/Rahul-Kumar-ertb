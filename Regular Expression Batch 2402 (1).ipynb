{
 "cells": [
  {
   "cell_type": "code",
   "execution_count": null,
   "id": "07368e22",
   "metadata": {},
   "outputs": [],
   "source": [
    "def replace_chars(sentence)"
   ]
  },
  {
   "cell_type": "code",
   "execution_count": null,
   "id": "e874bba8",
   "metadata": {
    "collapsed": true
   },
   "outputs": [],
   "source": [
    "replaced_sentence = sentence.replace(' ', ':').replace(',', ':').replace('.', ':')"
   ]
  },
  {
   "cell_type": "code",
   "execution_count": null,
   "id": "fb8ff5e8",
   "metadata": {},
   "outputs": [],
   "source": [
    "     return output_string"
   ]
  },
  {
   "cell_type": "code",
   "execution_count": null,
   "id": "62e0fa70",
   "metadata": {},
   "outputs": [],
   "source": [
    "output_sentence = replace_chars(input_sentence)"
   ]
  },
  {
   "cell_type": "code",
   "execution_count": null,
   "id": "31885c00",
   "metadata": {},
   "outputs": [],
   "source": [
    "input_sentence = 'Python Exercises, PHP exercises.'"
   ]
  },
  {
   "cell_type": "code",
   "execution_count": 18,
   "id": "1ff729ef",
   "metadata": {},
   "outputs": [
    {
     "name": "stdout",
     "output_type": "stream",
     "text": [
      "Sample Text: python Exercises,PHP exercises.\n",
      "Python:Exercises::PHP:exercises:\n"
     ]
    }
   ],
   "source": [
    "print(\"Sample Text:\", input_sentence)\n",
    "print(result)"
   ]
  },
  {
   "cell_type": "code",
   "execution_count": null,
   "id": "7b36e486",
   "metadata": {},
   "outputs": [],
   "source": [
    "import pandas as pd\n",
    "import re\n",
    "data = {'SUMMARY': ['hello, world!', 'XXXXX test', '123four, five:; six...']}\n",
    "df = pd.DataFrame(data)\n",
    "def remove_non_word_characters(text):\n",
    "    return re.sub(r'[^\\w\\s]', '', text)\n",
    "df['SUMMARY'] = df['SUMMARY'].apply(remove_non_word_characters)\n"
   ]
  },
  {
   "cell_type": "code",
   "execution_count": 46,
   "id": "490fb555",
   "metadata": {},
   "outputs": [
    {
     "name": "stdout",
     "output_type": "stream",
     "text": [
      "            SUMMARY\n",
      "0       hello world\n",
      "1        XXXXX test\n",
      "2  123four five six\n"
     ]
    }
   ],
   "source": [
    "print(df)"
   ]
  },
  {
   "cell_type": "code",
   "execution_count": null,
   "id": "af8a3824",
   "metadata": {},
   "outputs": [],
   "source": [
    "import re\n",
    "\n",
    "def find_long_words(text):\n",
    "    pattern = re.compile(r'\\b\\w{4,}\\b')\n",
    "    long_words = pattern.findall(text)\n",
    "    return long_words\n",
    "text = \"This is a sample text with some long words like apple, banana, and orange.\"\n",
    "long_words = find_long_words(text)"
   ]
  },
  {
   "cell_type": "code",
   "execution_count": 50,
   "id": "e1f612c4",
   "metadata": {},
   "outputs": [
    {
     "name": "stdout",
     "output_type": "stream",
     "text": [
      "['This', 'sample', 'text', 'with', 'some', 'long', 'words', 'like', 'apple', 'banana', 'orange']\n"
     ]
    }
   ],
   "source": [
    "print(long_words)"
   ]
  },
  {
   "cell_type": "code",
   "execution_count": 55,
   "id": "b299385a",
   "metadata": {},
   "outputs": [],
   "source": [
    "import re\n",
    "\n",
    "def find_specific_length_words(text):\n",
    "    pattern = re.compile(r'\\b\\w{3,5}\\b')\n",
    "    specific_length_words = pattern.findall(text)\n",
    "    return specific_length_words\n",
    "text = \"This is a sample text with words of various lengths like cat, dog, apple, banana, and orange.\"\n",
    "specific_length_words = find_specific_length_words(text)\n"
   ]
  },
  {
   "cell_type": "code",
   "execution_count": 56,
   "id": "d3e674f1",
   "metadata": {},
   "outputs": [
    {
     "name": "stdout",
     "output_type": "stream",
     "text": [
      "['This', 'text', 'with', 'words', 'like', 'cat', 'dog', 'apple', 'and']\n"
     ]
    }
   ],
   "source": [
    "print(specific_length_words)"
   ]
  },
  {
   "cell_type": "code",
   "execution_count": 3,
   "id": "75a3f5d4",
   "metadata": {},
   "outputs": [
    {
     "name": "stdout",
     "output_type": "stream",
     "text": [
      "['example ', 'hr@fliprobo ', 'github ', 'Hello ', 'Data ']\n"
     ]
    }
   ],
   "source": [
    "import re\n",
    "\n",
    "def remove_parentheses(strings):\n",
    "    pattern = re.compile(r'\\([^)]*\\)')\n",
    "    cleaned_strings = [pattern.sub('', s) for s in strings]\n",
    "    return cleaned_strings\n",
    "\n",
    "strings =  [\"example (.com)\", \"hr@fliprobo (.com)\", \"github (.com)\", \"Hello (Data Science World)\", \"Data (Scientist)\"]\n",
    "result = remove_parentheses(strings)\n",
    "print(result)\n"
   ]
  },
  {
   "cell_type": "code",
   "execution_count": null,
   "id": "4cadbb06",
   "metadata": {},
   "outputs": [],
   "source": [
    "import re"
   ]
  },
  {
   "cell_type": "code",
   "execution_count": null,
   "id": "89efd979",
   "metadata": {},
   "outputs": [],
   "source": [
    "def remove_parentheses_from_file(input_file, output_file):"
   ]
  },
  {
   "cell_type": "code",
   "execution_count": null,
   "id": "0014a4ac",
   "metadata": {},
   "outputs": [],
   "source": [
    "with open(input_file, 'r') as file:\n",
    "    text = file.read()"
   ]
  },
  {
   "cell_type": "code",
   "execution_count": null,
   "id": "d277a1d9",
   "metadata": {},
   "outputs": [],
   "source": [
    "cleaned_text = re.sub(r'\\([^)]*\\)', '', text)"
   ]
  },
  {
   "cell_type": "code",
   "execution_count": null,
   "id": "c0498e28",
   "metadata": {},
   "outputs": [],
   "source": [
    "with open(output_file, 'w') as file:\n",
    "    file.write(cleaned_text)"
   ]
  },
  {
   "cell_type": "code",
   "execution_count": null,
   "id": "f4786421",
   "metadata": {},
   "outputs": [],
   "source": [
    "input:[\"example (.com)\", \"hr@fliprobo (.com)\", \"github (.com)\", \"Hello (Data Science World)\", \"Data (Scientist)\"]\n",
    "Output: [\"example\", \"hr@fliprobo\", \"github\", \"Hello\", \"Data\"]"
   ]
  },
  {
   "cell_type": "code",
   "execution_count": null,
   "id": "6a9d1f93",
   "metadata": {},
   "outputs": [],
   "source": [
    "remove_parentheses_from_file(input_file, output_file)"
   ]
  },
  {
   "cell_type": "code",
   "execution_count": 32,
   "id": "288616c2",
   "metadata": {},
   "outputs": [
    {
     "name": "stdout",
     "output_type": "stream",
     "text": [
      "Parentheses removed and saved to output.txt\n"
     ]
    }
   ],
   "source": [
    "print(\"Parentheses removed and saved to\", output_file)"
   ]
  },
  {
   "cell_type": "code",
   "execution_count": null,
   "id": "107a4203",
   "metadata": {},
   "outputs": [],
   "source": [
    "import re\n",
    "sample_text = \"ImportanceOfRegularExpressionsInPython\"\n",
    "words = re.findall('[A-Z][^A-Z]*', sample_text)"
   ]
  },
  {
   "cell_type": "code",
   "execution_count": 36,
   "id": "e50329d3",
   "metadata": {},
   "outputs": [
    {
     "name": "stdout",
     "output_type": "stream",
     "text": [
      "['Importance', 'Of', 'Regular', 'Expressions', 'In', 'Python']\n"
     ]
    }
   ],
   "source": [
    "print(words)"
   ]
  },
  {
   "cell_type": "code",
   "execution_count": 4,
   "id": "cb0c6dbb",
   "metadata": {},
   "outputs": [],
   "source": [
    "import re\n",
    "\n",
    "def insert_spaces_before_numbers(text):\n",
    "    modified_text = re.sub(r'(\\b)(\\d)', r'\\1 \\2', text)\n",
    "    return modified_text\n",
    "sample_text = \"RegularExpression 1 Is An 2 Important Topic 3 In Python\"\n",
    "modified_text = insert_spaces_before_numbers(sample_text)"
   ]
  },
  {
   "cell_type": "code",
   "execution_count": 5,
   "id": "6b399d34",
   "metadata": {},
   "outputs": [
    {
     "name": "stdout",
     "output_type": "stream",
     "text": [
      "RegularExpression  1 Is An  2 Important Topic  3 In Python\n"
     ]
    }
   ],
   "source": [
    "print(modified_text)"
   ]
  },
  {
   "cell_type": "code",
   "execution_count": null,
   "id": "c22d702c",
   "metadata": {},
   "outputs": [],
   "source": [
    "import re\n",
    "\n",
    "def insert_spaces(text):\n",
    "    modified_text = re.sub(r'(\\b)([A-Z\\d])', r'\\1 \\2', text)\n",
    "    return modified_text\n",
    "sample_text = \"RegularExpression1IsAn2ImportantTopic3InPython\"\n",
    "modified_text = insert_spaces(sample_text)"
   ]
  },
  {
   "cell_type": "code",
   "execution_count": 6,
   "id": "8439b7a2",
   "metadata": {},
   "outputs": [
    {
     "name": "stdout",
     "output_type": "stream",
     "text": [
      "RegularExpression  1 Is An  2 Important Topic  3 In Python\n"
     ]
    }
   ],
   "source": [
    "print(modified_text)"
   ]
  },
  {
   "cell_type": "code",
   "execution_count": 10,
   "id": "f8c2b3c1",
   "metadata": {},
   "outputs": [
    {
     "name": "stdout",
     "output_type": "stream",
     "text": [
      "                  Name Code first_five_letters\n",
      "0          Afghanistan   AF             Afghan\n",
      "1        Åland Islands   AX             Åland \n",
      "2              Albania   AL             Albani\n",
      "3              Algeria   DZ             Algeri\n",
      "4       American Samoa   AS             Americ\n",
      "..                 ...  ...                ...\n",
      "244  Wallis and Futuna   WF             Wallis\n",
      "245     Western Sahara   EH             Wester\n",
      "246              Yemen   YE              Yemen\n",
      "247             Zambia   ZM             Zambia\n",
      "248           Zimbabwe   ZW             Zimbab\n",
      "\n",
      "[249 rows x 3 columns]\n"
     ]
    }
   ],
   "source": [
    "import pandas as pd\n",
    "url = 'https://raw.githubusercontent.com/datasets/country-list/master/data.csv'\n",
    "df = pd.read_csv(url)\n",
    "df['first_five_letters'] = df['Name'].str[:6]\n",
    "print(df)"
   ]
  },
  {
   "cell_type": "code",
   "execution_count": 17,
   "id": "dfef771b",
   "metadata": {},
   "outputs": [
    {
     "name": "stdout",
     "output_type": "stream",
     "text": [
      "'Hello_World123' matches the pattern.\n",
      "'python_code' matches the pattern.\n",
      "'123_abc' matches the pattern.\n",
      "'hello world' does not match the pattern.\n",
      "'abc@123' does not match the pattern.\n"
     ]
    }
   ],
   "source": [
    "import re\n",
    "\n",
    "def match_string(text):\n",
    "    pattern = r'^[a-zA-Z0-9_]+$'\n",
    "    match = re.match(pattern, text)\n",
    "    return bool(match)\n",
    "test_strings = [\"Hello_World123\", \"python_code\", \"123_abc\", \"hello world\", \"abc@123\"]\n",
    "for string in test_strings:\n",
    "    if match_string(string):\n",
    "        print(f\"'{string}' matches the pattern.\")\n",
    "    else:\n",
    "        print(f\"'{string}' does not match the pattern.\")\n"
   ]
  },
  {
   "cell_type": "code",
   "execution_count": 20,
   "id": "d5b22804",
   "metadata": {},
   "outputs": [
    {
     "name": "stdout",
     "output_type": "stream",
     "text": [
      "123abc 123\n"
     ]
    }
   ],
   "source": [
    "def start_with_number(string,number):\n",
    "    return string.startswith(str(number))\n",
    "test_string = \"123abc\"\n",
    "specific_number = 123\n",
    "\n",
    "if starts_with_number(test_string, specific_number):\n",
    "    print(test_string, specific_number)"
   ]
  },
  {
   "cell_type": "code",
   "execution_count": 33,
   "id": "d32e6a07",
   "metadata": {},
   "outputs": [
    {
     "name": "stdout",
     "output_type": "stream",
     "text": [
      "Original IP address: 192.168.001.001\n",
      "Modified IP address: 192.168.1.1\n"
     ]
    }
   ],
   "source": [
    "def remove_leading_zeros(ip_address):\n",
    "    octets = ip_address.split('.')\n",
    "    octets = [str(int(octet)) for octet in octets]\n",
    "    \n",
    "    modified_ip_address = '.'.join(octets)\n",
    "    \n",
    "    return modified_ip_address\n",
    "\n",
    "ip_address = \"192.168.001.001\"\n",
    "modified_ip_address = remove_leading_zeros(ip_address)\n",
    "print(\"Original IP address:\", ip_address)\n",
    "print(\"Modified IP address:\", modified_ip_address)\n"
   ]
  },
  {
   "cell_type": "code",
   "execution_count": 25,
   "id": "24165046",
   "metadata": {},
   "outputs": [
    {
     "name": "stdout",
     "output_type": "stream",
     "text": [
      "['quick', 'brown', 'lazy']\n"
     ]
    }
   ],
   "source": [
    "import re\n",
    "def search_literals_with_regex(text, literals):\n",
    "    pattern = re.compile('|'.join(re.escape(literal) for literal in literals))\n",
    "    matches = pattern.findall(text)\n",
    "    return matches\n",
    "sample_text = 'The quick brown fox jump over the lazy dog.'\n",
    "literals_to_search = ['quick','brown','lazy']\n",
    "found_literals = search_literals_with_regex(sample_text, literals_to_search)\n",
    "print(found_literals)"
   ]
  },
  {
   "cell_type": "code",
   "execution_count": 39,
   "id": "c4e3d973",
   "metadata": {},
   "outputs": [
    {
     "name": "stdout",
     "output_type": "stream",
     "text": [
      "['August 15th 1947']\n"
     ]
    }
   ],
   "source": [
    "import re\n",
    "text = 'On August 15th 1947 that India was declared independent from British colonialism, and the reins of control were handed over to the leaders of the Country.'\n",
    "pattern = r'\\b(?:January|February|March|April|May|June|July|August|September|October|November|December)\\s+\\d{1,2}(?:st|nd|rd|th)?\\s+\\d{4}\\b'\n",
    "dates = re.findall(pattern, text)\n",
    "print(dates)\n"
   ]
  },
  {
   "cell_type": "code",
   "execution_count": 2,
   "id": "2e50da8d",
   "metadata": {},
   "outputs": [
    {
     "name": "stdout",
     "output_type": "stream",
     "text": [
      "The word 'fox' is found at position 16 in the text.\n"
     ]
    }
   ],
   "source": [
    "def search_word(text, word):\n",
    "    location = text.find(word)\n",
    "    return location\n",
    "text = 'The quick brown fox jumps over the lazy dog.'\n",
    "searched_word = 'fox'\n",
    "location = search_word(text, searched_word)\n",
    "if location != -1:\n",
    "    print(f\"The word '{searched_word}' is found at position {location} in the text.\")\n",
    "else:\n",
    "    print(f\"The word '{searched_word}' is not found in the text.\")\n"
   ]
  },
  {
   "cell_type": "code",
   "execution_count": 6,
   "id": "89ee7607",
   "metadata": {},
   "outputs": [
    {
     "name": "stdout",
     "output_type": "stream",
     "text": [
      "['exercises', 'exercises', 'exercises']\n"
     ]
    }
   ],
   "source": [
    "import re\n",
    "\n",
    "def find_substrings(text, pattern):\n",
    "    substrings = re.findall(pattern, text)\n",
    "    return substrings\n",
    "\n",
    "text = 'Python exercises, PHP exercises, C# exercises'\n",
    "pattern = 'exercises'\n",
    "substrings = find_substrings(text, pattern)\n",
    "print(substrings)"
   ]
  },
  {
   "cell_type": "code",
   "execution_count": 9,
   "id": "9effd36e",
   "metadata": {},
   "outputs": [
    {
     "name": "stdout",
     "output_type": "stream",
     "text": [
      "Occurrences and positions of the substring within the string:\n",
      "Substring 'exercises' found at position 7\n",
      "Substring 'exercises' found at position 22\n",
      "Substring 'exercises' found at position 36\n"
     ]
    }
   ],
   "source": [
    "def find_occurrences_positions(text, substring):\n",
    "    occurrences = []\n",
    "    start = 0\n",
    "    while True:\n",
    "        pos = text.find(substring, start)\n",
    "        if pos == -1:\n",
    "            break\n",
    "        occurrences.append((pos, substring))\n",
    "        start = pos + 1\n",
    "    return occurrences\n",
    "\n",
    "text = 'Python exercises, PHP exercises, C# exercises'\n",
    "substring = 'exercises'\n",
    "occurrences_positions = find_occurrences_positions(text, substring)\n",
    "\n",
    "print(\"Occurrences and positions of the substring within the string:\")\n",
    "for pos, substr in occurrences_positions:\n",
    "    \n",
    "    print(f\"Substring '{substr}' found at position {pos}\")\n"
   ]
  },
  {
   "cell_type": "code",
   "execution_count": 10,
   "id": "2bdfbe2e",
   "metadata": {},
   "outputs": [
    {
     "name": "stdout",
     "output_type": "stream",
     "text": [
      "Original date: 2024-03-03\n",
      "Converted date: 03-03-2024\n"
     ]
    }
   ],
   "source": [
    "from datetime import datetime\n",
    "\n",
    "def convert_date_format(date_str):\n",
    "    date_obj = datetime.strptime(date_str, '%Y-%m-%d')\n",
    "    formatted_date = date_obj.strftime('%d-%m-%Y')\n",
    "    return formatted_date\n",
    "\n",
    "date_str = '2024-03-03'\n",
    "converted_date = convert_date_format(date_str)\n",
    "print(\"Original date:\", date_str)\n",
    "print(\"Converted date:\", converted_date)\n"
   ]
  },
  {
   "cell_type": "code",
   "execution_count": 7,
   "id": "f3d5636b",
   "metadata": {},
   "outputs": [
    {
     "name": "stdout",
     "output_type": "stream",
     "text": [
      "['01.12', '145.8', '3.01', '27.25', '0.25']\n"
     ]
    }
   ],
   "source": [
    "import re\n",
    "\n",
    "def find_decimal_numbers(text):\n",
    "    pattern = re.compile(r'\\b\\d+\\.\\d{1,2}\\b')\n",
    "    decimal_numbers = pattern.findall(text)\n",
    "    \n",
    "    return decimal_numbers\n",
    "sample_text = \"01.12 0132.123 2.31875 145.8 3.01 27.25 0.25\"\n",
    "\n",
    "result = find_decimal_numbers(sample_text)\n",
    "\n",
    "print(result)\n"
   ]
  },
  {
   "cell_type": "code",
   "execution_count": 12,
   "id": "9c9afec1",
   "metadata": {},
   "outputs": [
    {
     "name": "stdout",
     "output_type": "stream",
     "text": [
      "Number: 123, Position: 31-34\n",
      "Number: 456, Position: 44-47\n"
     ]
    }
   ],
   "source": [
    "import re\n",
    "\n",
    "def find_numbers_with_positions(text):\n",
    "    pattern = re.compile(r'\\d+')\n",
    "    matches = pattern.finditer(text)\n",
    "    for match in matches:\n",
    "        number = match.group()\n",
    "        start_pos = match.start()\n",
    "        end_pos = match.end()\n",
    "        \n",
    "        print(f\"Number: {number}, Position: {start_pos}-{end_pos}\")\n",
    "\n",
    "sample_text = \"The quick brown fox jumps over 123 the lazy 456 dog.\"\n",
    "find_numbers_with_positions(sample_text)\n"
   ]
  },
  {
   "cell_type": "code",
   "execution_count": 14,
   "id": "bcbeacc3",
   "metadata": {},
   "outputs": [
    {
     "name": "stdout",
     "output_type": "stream",
     "text": [
      "Maximum numeric value: 950\n"
     ]
    }
   ],
   "source": [
    "import re\n",
    "\n",
    "def extract_maximum_numeric_value(text):\n",
    "    pattern = r'\\b\\d+\\b'\n",
    "    \n",
    "    numeric_values = [int(value) for value in re.findall(pattern, text)]\n",
    "    \n",
    "    max_value = max(numeric_values)\n",
    "    \n",
    "    return max_value\n",
    "\n",
    "sample_text = 'My marks in each semester are: 947, 896, 926, 524, 734, 950, 642'\n",
    "\n",
    "max_numeric_value = extract_maximum_numeric_value(sample_text)\n",
    "\n",
    "print(\"Maximum numeric value:\", max_numeric_value)\n"
   ]
  },
  {
   "cell_type": "code",
   "execution_count": 16,
   "id": "69be5a6a",
   "metadata": {},
   "outputs": [
    {
     "name": "stdout",
     "output_type": "stream",
     "text": [
      "Regular Expression Is An Important Topic In Python\n"
     ]
    }
   ],
   "source": [
    "import re\n",
    "\n",
    "def insert_spaces(text):\n",
    "    modified_text = re.sub(r'(?<!^)(?=[A-Z])', ' ', text)\n",
    "    return modified_text\n",
    "sample_text = \"RegularExpressionIsAnImportantTopicInPython\"\n",
    "modified_text = insert_spaces(sample_text)\n",
    "print(modified_text)"
   ]
  },
  {
   "cell_type": "code",
   "execution_count": 17,
   "id": "201bbe55",
   "metadata": {},
   "outputs": [
    {
     "name": "stdout",
     "output_type": "stream",
     "text": [
      "['The', 'Quick', 'Fox', 'Lazy', 'Dog']\n"
     ]
    }
   ],
   "source": [
    "import re\n",
    "\n",
    "text = \"The Quick brown Fox jumps over the Lazy Dog.\"\n",
    "pattern = r\"[A-Z][a-z]+\"\n",
    "\n",
    "matches = re.findall(pattern, text)\n",
    "print(matches)\n"
   ]
  },
  {
   "cell_type": "code",
   "execution_count": 18,
   "id": "ed0f83b9",
   "metadata": {},
   "outputs": [
    {
     "name": "stdout",
     "output_type": "stream",
     "text": [
      "Hello hello world\n"
     ]
    }
   ],
   "source": [
    "import re\n",
    "\n",
    "def remove_continuous_duplicates(sentence):\n",
    "    pattern = r'\\b(\\w+)(\\s+\\1)+\\b'\n",
    "    \n",
    "    modified_sentence = re.sub(pattern, r'\\1', sentence)\n",
    "    \n",
    "    return modified_sentence\n",
    "sample_text = \"Hello hello world world\"\n",
    "modified_text = remove_continuous_duplicates(sample_text)\n",
    "print(modified_text)\n"
   ]
  },
  {
   "cell_type": "code",
   "execution_count": 20,
   "id": "f9172ff5",
   "metadata": {},
   "outputs": [
    {
     "name": "stdout",
     "output_type": "stream",
     "text": [
      "'hello123' ends with an alphanumeric character.\n",
      "'world!' does not end with an alphanumeric character.\n",
      "'12345' ends with an alphanumeric character.\n",
      "'Python123_' does not end with an alphanumeric character.\n",
      "'test1' ends with an alphanumeric character.\n",
      "'example123' ends with an alphanumeric character.\n"
     ]
    }
   ],
   "source": [
    "import re\n",
    "\n",
    "def ends_with_alphanumeric(string):\n",
    "    pattern = r'^.*[a-zA-Z0-9]$'\n",
    "    match = re.match(pattern, string)\n",
    "    return bool(match)\n",
    "test_strings = [\"hello123\", \"world!\", \"12345\", \"Python123_\", \"test1\", \"example123\"]\n",
    "for string in test_strings:\n",
    "    if ends_with_alphanumeric(string):\n",
    "        print(f\"'{string}' ends with an alphanumeric character.\")\n",
    "    else:\n",
    "        print(f\"'{string}' does not end with an alphanumeric character.\")\n"
   ]
  },
  {
   "cell_type": "code",
   "execution_count": 1,
   "id": "249942f0",
   "metadata": {},
   "outputs": [
    {
     "name": "stdout",
     "output_type": "stream",
     "text": [
      "Extracted hashtags: ['#Doltiwal', '#xyzabc', '#Demonetization']\n"
     ]
    }
   ],
   "source": [
    "import re\n",
    "\n",
    "def extract_hashtags(text):\n",
    "    pattern = r'#\\w+'\n",
    "    hashtags = re.findall(pattern, text)\n",
    "    \n",
    "    return hashtags\n",
    "\n",
    "sample_text = \"\"\"RT @kapil_kausik: #Doltiwal I mean #xyzabc is \"hurt\" by #Demonetization as the same has rendered USELESS <ed><U+00A0><U+00BD><ed><U+00B1><U+0089> \"acquired funds\" No wo\"\"\"\n",
    "\n",
    "hashtags = extract_hashtags(sample_text)\n",
    "\n",
    "print(\"Extracted hashtags:\", hashtags)\n"
   ]
  },
  {
   "cell_type": "code",
   "execution_count": 2,
   "id": "33363312",
   "metadata": {},
   "outputs": [
    {
     "name": "stdout",
     "output_type": "stream",
     "text": [
      "Modified text: @Jags123456 Bharat band on 28??<ed><ed>Those who  are protesting #demonetization  are all different party leaders\n"
     ]
    }
   ],
   "source": [
    "import re\n",
    "\n",
    "def remove_u_plus_symbols(text):\n",
    "    pattern = r'<U\\+[0-9A-Fa-f]+>'\n",
    "    \n",
    "    modified_text = re.sub(pattern, '', text)\n",
    "    \n",
    "    return modified_text\n",
    "\n",
    "sample_text = \"@Jags123456 Bharat band on 28??<ed><U+00A0><U+00BD><ed><U+00B8><U+0082>Those who  are protesting #demonetization  are all different party leaders\"\n",
    "\n",
    "modified_text = remove_u_plus_symbols(sample_text)\n",
    "\n",
    "print(\"Modified text:\", modified_text)\n"
   ]
  },
  {
   "cell_type": "code",
   "execution_count": 5,
   "id": "81a2aaa3",
   "metadata": {},
   "outputs": [
    {
     "name": "stdout",
     "output_type": "stream",
     "text": [
      "Extracted dates: ['12-09-1992', '15-12-1999']\n"
     ]
    }
   ],
   "source": [
    "import re\n",
    "\n",
    "def extract_dates_from_text(text):\n",
    "    pattern = r'\\b\\d{2}-\\d{2}-\\d{4}\\b'\n",
    "    dates = re.findall(pattern, text)\n",
    "    return dates\n",
    "sample_text = \"Ron was born on 12-09-1992 and he was admitted to school 15-12-1999.\"\n",
    "dates = extract_dates_from_text(sample_text)\n",
    "\n",
    "print(\"Extracted dates:\", dates)\n"
   ]
  },
  {
   "cell_type": "code",
   "execution_count": 6,
   "id": "e43019e8",
   "metadata": {},
   "outputs": [
    {
     "name": "stdout",
     "output_type": "stream",
     "text": [
      "Modified text:  following example creates  ArrayList  a capacity   elements. 4 elements   added   ArrayList   ArrayList  trimmed accordingly.\n"
     ]
    }
   ],
   "source": [
    "import re\n",
    "\n",
    "def remove_words_of_length_between_2_and_4(text):\n",
    "    pattern = re.compile(r'\\b\\w{2,4}\\b')\n",
    "    modified_text = pattern.sub('', text)\n",
    "    \n",
    "    return modified_text\n",
    "\n",
    "sample_text = \"The following example creates an ArrayList with a capacity of 50 elements. 4 elements are then added to the ArrayList and the ArrayList is trimmed accordingly.\"\n",
    "\n",
    "modified_text = remove_words_of_length_between_2_and_4(sample_text)\n",
    "print(\"Modified text:\", modified_text)\n"
   ]
  },
  {
   "cell_type": "code",
   "execution_count": null,
   "id": "ff28a205",
   "metadata": {},
   "outputs": [],
   "source": []
  }
 ],
 "metadata": {
  "kernelspec": {
   "display_name": "Python 3 (ipykernel)",
   "language": "python",
   "name": "python3"
  },
  "language_info": {
   "codemirror_mode": {
    "name": "ipython",
    "version": 3
   },
   "file_extension": ".py",
   "mimetype": "text/x-python",
   "name": "python",
   "nbconvert_exporter": "python",
   "pygments_lexer": "ipython3",
   "version": "3.11.5"
  }
 },
 "nbformat": 4,
 "nbformat_minor": 5
}
